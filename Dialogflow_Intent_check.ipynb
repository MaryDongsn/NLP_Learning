{
  "nbformat": 4,
  "nbformat_minor": 0,
  "metadata": {
    "colab": {
      "name": "Copy of [MAKE A COPY] Dialogflow Intent health check.ipynb",
      "provenance": [],
      "collapsed_sections": [],
      "include_colab_link": true
    },
    "kernelspec": {
      "name": "python3",
      "display_name": "Python 3"
    }
  },
  "cells": [
    {
      "cell_type": "markdown",
      "metadata": {
        "id": "view-in-github",
        "colab_type": "text"
      },
      "source": [
        "<a href=\"https://colab.research.google.com/github/MaryDongsn/NLP_Learning/blob/master/Dialogflow_Intent_check.ipynb\" target=\"_parent\"><img src=\"https://colab.research.google.com/assets/colab-badge.svg\" alt=\"Open In Colab\"/></a>"
      ]
    },
    {
      "cell_type": "markdown",
      "metadata": {
        "id": "J1a1kYHwrcpm",
        "colab_type": "text"
      },
      "source": [
        "# Welcome to this Tutorial\n",
        "The code that follows will walk you through several things:\n",
        "\n",
        "\n",
        "1.   How to get programmatically use the the Dialogflow API and to interact with your agent programmatically\n",
        "2.   How to use Tensorflow Hub to get start with Tensorflow Modules and how to use it to generate Embeddings for your training phrases\n",
        "3.   Once the embeddings are created, how can we use them to detect problems in our Dialogflow agent.\n",
        "\n",
        "Before starting, we need to install few dependencies"
      ]
    },
    {
      "cell_type": "code",
      "metadata": {
        "id": "SNn0Sx-Ose7L",
        "colab_type": "code",
        "colab": {}
      },
      "source": [
        "!sudo pip install --quiet --upgrade tensorflow dialogflow scipy tensorflow-hub"
      ],
      "execution_count": 2,
      "outputs": []
    },
    {
      "cell_type": "code",
      "metadata": {
        "id": "eV-PUfKfiF2q",
        "colab_type": "code",
        "colab": {
          "base_uri": "https://localhost:8080/",
          "height": 34
        },
        "outputId": "ee2b30ce-b5d6-4d15-fc4b-de54d191b5d3"
      },
      "source": [
        "import dialogflow_v2 as dialogflow\n",
        "import tensorflow as tf\n",
        "import tensorflow_hub as hub\n",
        "import numpy as np\n",
        "import pandas as pd\n",
        "from collections import defaultdict\n",
        "import os\n",
        "from google.colab import auth\n",
        "import pickle\n",
        "print(tf.__version__)"
      ],
      "execution_count": 3,
      "outputs": [
        {
          "output_type": "stream",
          "text": [
            "2.2.0\n"
          ],
          "name": "stdout"
        }
      ]
    },
    {
      "cell_type": "markdown",
      "metadata": {
        "id": "znWzuMVJiPX7",
        "colab_type": "text"
      },
      "source": [
        "Now, let's set the variables we need. These values should match the entried you used when creating a project and a service account"
      ]
    },
    {
      "cell_type": "code",
      "metadata": {
        "id": "xSATtr21thaG",
        "colab_type": "code",
        "cellView": "code",
        "colab": {}
      },
      "source": [
        "PROJECT_ID=\"newagent-ujuskx\" # Set your GCP Project Id\n",
        "SERVICE_ACCOUNT_EMAIL=\"dilogflow-healthcheck@newagent-ujuskx.iam.gserviceaccount.com\" # Set your Dialogflow service account email"
      ],
      "execution_count": 4,
      "outputs": []
    },
    {
      "cell_type": "markdown",
      "metadata": {
        "id": "L-Y4fC3ZixZs",
        "colab_type": "text"
      },
      "source": [
        "### Great\n",
        "Now, we need to authenticate your session so you can create a key for your service account.\n",
        "\n",
        "Follow the instructions in the output section of the cell below"
      ]
    },
    {
      "cell_type": "code",
      "metadata": {
        "id": "JDdAAVeVtMCX",
        "colab_type": "code",
        "colab": {
          "base_uri": "https://localhost:8080/",
          "height": 51
        },
        "outputId": "1d0995cd-348b-48cd-faba-4f8a1e512aaa"
      },
      "source": [
        "auth.authenticate_user()\n",
        "!gcloud config set project {PROJECT_ID}\n",
        "!gcloud iam service-accounts keys create sa-key.json \\\n",
        " --iam-account={SERVICE_ACCOUNT_EMAIL} --project={PROJECT_ID}"
      ],
      "execution_count": 5,
      "outputs": [
        {
          "output_type": "stream",
          "text": [
            "Updated property [core/project].\n",
            "created key [261e0f26ab498c9879c4a04ebead20c0a9194a37] of type [json] as [sa-key.json] for [dilogflow-healthcheck@newagent-ujuskx.iam.gserviceaccount.com]\n"
          ],
          "name": "stdout"
        }
      ]
    },
    {
      "cell_type": "markdown",
      "metadata": {
        "id": "VhAkJYYLjRvO",
        "colab_type": "text"
      },
      "source": [
        "#### Let's take a snapshot of your Dialogflow account\n",
        "\n",
        "The following code will issue two api calls to read the entities and the intents of your Dialogflow agent. We'll need these to perform our analysis"
      ]
    },
    {
      "cell_type": "code",
      "metadata": {
        "id": "qao-CnY2u0aV",
        "colab_type": "code",
        "colab": {}
      },
      "source": [
        "def fetch_intents_training_phrases(service_account_file, project):\n",
        "\n",
        "  dialogflow_entity_client = dialogflow.EntityTypesClient.from_service_account_file(service_account_file)\n",
        "  parent = dialogflow_entity_client.project_agent_path(project)\n",
        "  entities = list(dialogflow_entity_client.list_entity_types(parent))\n",
        "\n",
        "  dialogflow_intents_client = dialogflow.IntentsClient.from_service_account_file(service_account_file)\n",
        "  parent = dialogflow_intents_client.project_agent_path(project)\n",
        "  intents = list(dialogflow_intents_client.list_intents(\n",
        "    parent=parent,\n",
        "    intent_view=dialogflow.enums.IntentView.INTENT_VIEW_FULL))\n",
        "\n",
        "  entities_name_to_value = {}\n",
        "  for intent in intents:\n",
        "      entities_used = {entity.display_name \n",
        "        for entity in intent.parameters}\n",
        "\n",
        "      for entity in entities:\n",
        "          if entity.display_name in entities_used \\\n",
        "                  and entity.display_name not in entities_name_to_value:\n",
        "                  \n",
        "              entities_name_to_value[entity.display_name] = np.random.choice(\n",
        "                  np.random.choice(entity.entities).synonyms, replace=False)\n",
        "\n",
        "  intent_training_phrases = defaultdict(list)\n",
        "  for intent in intents:\n",
        "      for training_phrase in intent.training_phrases:\n",
        "\n",
        "          parts = [\n",
        "              entities_name_to_value[part.alias] \n",
        "              if part.alias in  entities_name_to_value else part.text\n",
        "              for part in training_phrase.parts\n",
        "          ]\n",
        "          intent_training_phrases[intent.display_name].append(\n",
        "              \"\".join(parts))\n",
        "      # Remove intents with no training phrases\n",
        "      if not intent_training_phrases[intent.display_name]:\n",
        "          del intent_training_phrases[intent.display_name]\n",
        "  return intent_training_phrases\n"
      ],
      "execution_count": 6,
      "outputs": []
    },
    {
      "cell_type": "code",
      "metadata": {
        "id": "5_H98m8dIY0d",
        "colab_type": "code",
        "colab": {
          "base_uri": "https://localhost:8080/",
          "height": 343
        },
        "outputId": "7ebf76f5-75ed-436d-e6e5-49b70a9439bb"
      },
      "source": [
        "intent_training_phrases = fetch_intents_training_phrases(\"sa-key.json\", PROJECT_ID)\n",
        "\n",
        "for intent in intent_training_phrases:\n",
        "  print(\"{}:{}\".format(intent, intent_training_phrases[intent]))\n",
        "  print(\"{}:{}\".format(intent, len(intent_training_phrases[intent])))"
      ],
      "execution_count": 7,
      "outputs": [
        {
          "output_type": "stream",
          "text": [
            "Asian:['I want to watch an asian movie', 'maybe an asian movie?', 'asian movie seems nice', 'any asian movie?', 'tell me an Asian Movie']\n",
            "Asian:5\n",
            "Comedy:['I want to watch some Comedy movie', 'I only watch Comedy movies', 'please recommend a Comedy movie', 'let see what available for a Comedy movie', 'I need to watch a Comedy movie', 'share some Comedy movies suggestion', 'I want to laugh! any Comedy movies?']\n",
            "Comedy:7\n",
            "Default Welcome Intent:['just going to say hi', 'heya', 'hello hi', 'howdy', 'hey there', 'hi there', 'greetings', 'hey', 'long time no see', 'hello', \"lovely day isn't it\", 'I greet you', 'hello again', 'hi', 'hello there', 'a good day']\n",
            "Default Welcome Intent:16\n",
            "Documentary:['any suggestions for documentry?', 'list some documentry movies', 'any suggestions for a documentry?', 'I want to watch a documentry about animals.', 'any recommendation for a documentry movie?', 'do you know any documentry?']\n",
            "Documentary:6\n",
            "Action:['is there an Action movie your recommend', 'Action movie please!', 'oscar winner Action movie', 'list some Action movies', 'What is the best Action movie', 'Would like to watch Action movie tonight.']\n",
            "Action:6\n",
            "Old:['Old movies please!', 'List all Old movies', 'can i watch a movie from Old', 'movie from Old', 'I need to watch an Old movie.', ' I want to watch a movie that released before Old.']\n",
            "Old:6\n",
            "Disney:['Disney movies please!', 'Disney movies are good! please list some.', 'I want to watch a Disney movie.', 'Any new Disney movies available ?', 'list all Disney movies.', 'Can you tell me a movie produced by Disney?', 'Disney']\n",
            "Disney:7\n",
            "Oscar:['how about an oscar movie', 'I want to watch a nice oscar movie', 'any oscar movie in your mind?', 'what is the best oscar movie?', 'tell me an oscar movie']\n",
            "Oscar:5\n",
            "Length:['I think a movie that is longer than 2 hours is a good idea', 'can you tell me a movie that is longer than 2 hours', 'Any good movie that is longer than 2 hours?', 'How about a movie that is longer than 2 hours?', 'I want to watch a movie that is longer than 2 hours.', 'Do you know any movie that is longer than 120 minutes?', 'Tell me a movie that is longer than 2 hours']\n",
            "Length:7\n"
          ],
          "name": "stdout"
        }
      ]
    },
    {
      "cell_type": "markdown",
      "metadata": {
        "id": "rUMUOAIFGW8A",
        "colab_type": "text"
      },
      "source": [
        "### Let's create some embeddings\n",
        "\n",
        "Embeddings are a projection of your data on a space with fewer dimensions\n",
        "compared to the original space.\n",
        "\n",
        "It is a lossy transformation and, in this case, we transform the training phrases into points in a space with 512 dimensions.\n",
        "\n",
        "To do so, we'll use a Tensorflow hub module. [The universal sentence encoder](https://tfhub.dev/google/universal-sentence-encoder/2).\n",
        "\n",
        "Before working on our data, let's see how it works.\n",
        "\n",
        "Please note that for each new session the following code block can take a while to complete.\n",
        "This is because for every session, Google Cloud provisions a new virtual machine, and we need to download the Tensorflow hub module. \n"
      ]
    },
    {
      "cell_type": "code",
      "metadata": {
        "id": "uQHoK4FOHP9u",
        "colab_type": "code",
        "colab": {
          "base_uri": "https://localhost:8080/",
          "height": 105
        },
        "outputId": "485a7897-5d32-45d4-d433-f594ffee7565"
      },
      "source": [
        "import tensorflow.compat.v1 as tf\n",
        "tf.disable_v2_behavior() \n",
        "embed_module = hub.Module(\"https://tfhub.dev/google/universal-sentence-encoder/2\")\n",
        "tf.initializers.tables_initializer()"
      ],
      "execution_count": 8,
      "outputs": [
        {
          "output_type": "stream",
          "text": [
            "WARNING:tensorflow:From /usr/local/lib/python3.6/dist-packages/tensorflow/python/compat/v2_compat.py:96: disable_resource_variables (from tensorflow.python.ops.variable_scope) is deprecated and will be removed in a future version.\n",
            "Instructions for updating:\n",
            "non-resource variables are not supported in the long term\n"
          ],
          "name": "stdout"
        },
        {
          "output_type": "execute_result",
          "data": {
            "text/plain": [
              "<tf.Operation 'init_all_tables' type=NoOp>"
            ]
          },
          "metadata": {
            "tags": []
          },
          "execution_count": 8
        }
      ]
    },
    {
      "cell_type": "markdown",
      "metadata": {
        "id": "fK7VgQKZkTJ0",
        "colab_type": "text"
      },
      "source": [
        "Now that we have the module and the Tensorflow operation defined, we can construct the first embeddings.\n",
        "\n",
        "Before deep-diving in our Dialogflow's training phrases, let's analyze a small and simple synthetic example"
      ]
    },
    {
      "cell_type": "code",
      "metadata": {
        "id": "0XFREDe8kSMc",
        "colab_type": "code",
        "colab": {
          "base_uri": "https://localhost:8080/",
          "height": 51
        },
        "outputId": "a4d198d6-5a35-41af-cc9b-931555ede5b5"
      },
      "source": [
        "\n",
        "\n",
        "def make_embeddings_fn():\n",
        "    placeholder = tf.placeholder(dtype=tf.string)\n",
        "    embed = embed_module(placeholder)\n",
        "    session = tf.Session()\n",
        "    session.run([tf.global_variables_initializer(), tf.tables_initializer()])\n",
        "    def _embeddings_fn(sentences):\n",
        "        computed_embeddings = session.run(\n",
        "            embed, feed_dict={placeholder: sentences})\n",
        "        return computed_embeddings\n",
        "    return _embeddings_fn\n",
        "\n",
        "generate_embeddings = make_embeddings_fn()\n"
      ],
      "execution_count": 9,
      "outputs": [
        {
          "output_type": "stream",
          "text": [
            "INFO:tensorflow:Saver not created because there are no variables in the graph to restore\n"
          ],
          "name": "stdout"
        },
        {
          "output_type": "stream",
          "text": [
            "INFO:tensorflow:Saver not created because there are no variables in the graph to restore\n"
          ],
          "name": "stderr"
        }
      ]
    },
    {
      "cell_type": "code",
      "metadata": {
        "id": "jn1MIw8PsaTi",
        "colab_type": "code",
        "colab": {}
      },
      "source": [
        "sentences = [\n",
        "  \"I want to watch a movie that released before 2000\",\n",
        "  \"do you know any documentaries\",\n",
        "  \"Goodbye\",\n",
        "  \"Can you tell me a movie produced by Disney\"\n",
        "]\n",
        "computed_embeddings = generate_embeddings(sentences)"
      ],
      "execution_count": 16,
      "outputs": []
    },
    {
      "cell_type": "markdown",
      "metadata": {
        "id": "9zvE35Ohk0O1",
        "colab_type": "text"
      },
      "source": [
        "Now you can see how the embeddings look like. Specifically, they are projections of the original sentences in a `512` dimensional space. This high-dimensional space is impossible to visualize for a human. So, let's project them to a 3-d space that we can visualize and comprehend.\n",
        "\n",
        "To achieve this, we use Principal Component Analysis (PCA). PCA is a lossy transformation that conserves most of the variance in the data. This let's us plot the points in a 3d space while conserving the best we can the distance between the sentences.\n",
        "\n",
        "Let's also print the relative distances between every point-pair."
      ]
    },
    {
      "cell_type": "code",
      "metadata": {
        "id": "M6rH0THPJUwg",
        "colab_type": "code",
        "colab": {
          "base_uri": "https://localhost:8080/",
          "height": 609
        },
        "outputId": "eb116008-6786-4ea5-879e-58c26967c43b"
      },
      "source": [
        "from sklearn.decomposition import PCA\n",
        "import matplotlib.pyplot as plt\n",
        "import math\n",
        "\n",
        "point_size=200\n",
        "\n",
        "pca = PCA(n_components=2)\n",
        "points_2d = pca.fit_transform(computed_embeddings)\n",
        "\n",
        "fig = plt.figure(figsize=(16,10))\n",
        "ax = fig.add_subplot(111)\n",
        "\n",
        "for point, marker in zip(points_2d, ['o', '^', '*', 's']):\n",
        "  xs = point[0]\n",
        "  ys = point[1]\n",
        "  ax.scatter(xs, ys, marker=marker, s=point_size)\n",
        "\n",
        "ax.set_xlabel('X Dimension')\n",
        "ax.set_ylabel('Y Dimension')\n",
        "\n",
        "ax.legend(sentences)\n",
        "plt.show()"
      ],
      "execution_count": 17,
      "outputs": [
        {
          "output_type": "display_data",
          "data": {
            "image/png": "[encoded data removed]",
            "text/plain": [
              "<Figure size 1152x720 with 1 Axes>"
            ]
          },
          "metadata": {
            "tags": [],
            "needs_background": "light"
          }
        }
      ]
    },
    {
      "cell_type": "markdown",
      "metadata": {
        "id": "8lHNEi5F10RB",
        "colab_type": "text"
      },
      "source": [
        "As you can see, our method seems to work. 'Hi' and 'Hello' are similar sentences, and hence they remain closer than any other pair of sentences in our simple example.\n",
        "\n",
        "Let's now use this method to analyze our dialogflow training phrases"
      ]
    },
    {
      "cell_type": "code",
      "metadata": {
        "id": "vumjAEHc3d0J",
        "colab_type": "code",
        "colab": {}
      },
      "source": [
        "training_phrases_with_embeddings = defaultdict(list)\n",
        "for intent_name, training_phrases_list in intent_training_phrases.items():\n",
        "  computed_embeddings = generate_embeddings(training_phrases_list)\n",
        "  training_phrases_with_embeddings[intent_name] = dict(zip(training_phrases_list, computed_embeddings))"
      ],
      "execution_count": 18,
      "outputs": []
    },
    {
      "cell_type": "code",
      "metadata": {
        "id": "7EzLKfUJLX3H",
        "colab_type": "code",
        "colab": {
          "base_uri": "https://localhost:8080/",
          "height": 170
        },
        "outputId": "451a0bdc-a047-4345-af22-3e8bd4a208f1"
      },
      "source": [
        "for intent_name, _ in training_phrases_with_embeddings.items():\n",
        "  training_phrase, embeddings = next(iter(training_phrases_with_embeddings[intent_name].items()))\n",
        "  print(\"{}: {{'{}':{}}}\".format(intent_name, training_phrase, embeddings[:5]))"
      ],
      "execution_count": 19,
      "outputs": [
        {
          "output_type": "stream",
          "text": [
            "Asian: {'I want to watch an asian movie':[-0.03200689 -0.07466505  0.00922933 -0.03052555  0.05638206]}\n",
            "Comedy: {'I want to watch some Comedy movie':[ 0.00832635 -0.02156101 -0.03157195  0.02532358 -0.02657226]}\n",
            "Default Welcome Intent: {'just going to say hi':[ 0.06459191 -0.01705992 -0.02147556  0.02477609 -0.0295305 ]}\n",
            "Documentary: {'any suggestions for documentry?':[ 0.01381703  0.00205131 -0.03902698  0.06102355 -0.08027479]}\n",
            "Action: {'is there an Action movie your recommend':[-0.01184875 -0.03784366 -0.04149282 -0.04126916  0.01030052]}\n",
            "Old: {'Old movies please!':[-0.04147471 -0.04542603 -0.01737741 -0.01415931 -0.05567201]}\n",
            "Disney: {'Disney movies please!':[-0.03353189  0.00526064 -0.03329213  0.04361625  0.00499587]}\n",
            "Oscar: {'how about an oscar movie':[ 0.04455394 -0.04666462 -0.03445528 -0.07068237 -0.0590299 ]}\n",
            "Length: {'I think a movie that is longer than 2 hours is a good idea':[-0.01607551  0.01261094 -0.02978587 -0.07815537  0.02197171]}\n"
          ],
          "name": "stdout"
        }
      ]
    },
    {
      "cell_type": "markdown",
      "metadata": {
        "id": "oHvhF65s5vyS",
        "colab_type": "text"
      },
      "source": [
        "### Let's see how our training phrases are doing!\n"
      ]
    },
    {
      "cell_type": "code",
      "metadata": {
        "colab_type": "code",
        "id": "Ck0u6wp86DED",
        "colab": {
          "base_uri": "https://localhost:8080/",
          "height": 592
        },
        "outputId": "eddd1cf0-b71d-4679-fa4e-0efde9b72264"
      },
      "source": [
        "from sklearn.decomposition import PCA\n",
        "\n",
        "embedding_vectors = []\n",
        "\n",
        "for intent, training_phrases_and_embeddings in training_phrases_with_embeddings.items():\n",
        "  for training_phrase, embeddings in training_phrases_and_embeddings.items():\n",
        "    embedding_vectors.append(embeddings)\n",
        "\n",
        "embedding_vectors = np.asarray(embedding_vectors)\n",
        "\n",
        "pca = PCA(n_components=2)\n",
        "pca.fit(embedding_vectors)\n",
        "\n",
        "from mpl_toolkits.mplot3d import Axes3D\n",
        "import matplotlib.pyplot as plt\n",
        "\n",
        "fig = plt.figure(figsize=(15,10))\n",
        "ax = fig.add_subplot(111)\n",
        "\n",
        "legend = []\n",
        "\n",
        "for color, intent in enumerate(training_phrases_with_embeddings.keys()):\n",
        "  phrases = list(training_phrases_with_embeddings[intent].keys())\n",
        "  embeddings = list(training_phrases_with_embeddings[intent].values())\n",
        "  points = pca.transform(embeddings)\n",
        "  xs = points[:,0]\n",
        "  ys = points[:,1]\n",
        "  ax.scatter(xs, ys, marker='o', s=100, c=\"C\"+str(color))\n",
        "  for i, phrase in enumerate(phrases):\n",
        "    ax.annotate(phrase[:15] + '...', (xs[i], ys[i]))\n",
        "  legend.append(intent)\n",
        "\n",
        "\n",
        "ax.legend(legend)\n",
        "plt.show()"
      ],
      "execution_count": 20,
      "outputs": [
        {
          "output_type": "display_data",
          "data": {
            "image/png": "[encoded data removed]",
            "text/plain": [
              "<Figure size 1080x720 with 1 Axes>"
            ]
          },
          "metadata": {
            "tags": [],
            "needs_background": "light"
          }
        }
      ]
    },
    {
      "cell_type": "markdown",
      "metadata": {
        "id": "yIRawh94icS7",
        "colab_type": "text"
      },
      "source": [
        "### Cosine similarity\n",
        "[Cosine similarity](https://en.wikipedia.org/wiki/Cosine_similarity) is a similarity metric that scales well high-dimensional spaces. What it does is simple: given two vectors of numbers it calculates the cosine of angle between them.\n",
        "\n",
        "\n",
        "![formula](https://wikimedia.org/api/rest_v1/media/math/render/svg/1d94e5903f7936d3c131e040ef2c51b473dd071d)\n",
        "\n",
        "![](http://blog.christianperone.com/wp-content/uploads/2013/09/cosinesimilarityfq1.png)\n",
        "\n",
        "To calculate this we can use `sklearn.metrics` package without coding it ourselves.\n",
        "\n",
        "\n",
        "Before computing every possible pair of sentences, let's measure how *disperse* are our intents."
      ]
    },
    {
      "cell_type": "code",
      "metadata": {
        "id": "Q5VM6KqfibRT",
        "colab_type": "code",
        "colab": {}
      },
      "source": [
        "from sklearn.metrics.pairwise import cosine_similarity      \n",
        "\n",
        "flatten = []\n",
        "\n",
        "for intent in training_phrases_with_embeddings:\n",
        "  for phrase in training_phrases_with_embeddings[intent]:\n",
        "    flatten.append((intent, phrase,  training_phrases_with_embeddings[intent][phrase]))\n",
        "\n",
        "data = []\n",
        "for i in range(len(flatten)):\n",
        "  for j in range(i+1, len(flatten)):\n",
        "\n",
        "    intent_1 = flatten[i][0]\n",
        "    phrase_1 = flatten[i][1]\n",
        "    embedd_1 = flatten[i][2]\n",
        "\n",
        "    intent_2 = flatten[j][0]\n",
        "    phrase_2 = flatten[j][1]\n",
        "    embedd_2 = flatten[j][2]\n",
        "\n",
        "    similarity = cosine_similarity([embedd_1], [embedd_2])[0][0]\n",
        "\n",
        "    record = [intent_1, phrase_1, intent_2, phrase_2, similarity]\n",
        "    data.append(record)\n",
        "\n",
        "similarity_df = pd.DataFrame(data, \n",
        "  columns=[\"Intent A\", \"Phrase A\", \"Intent B\", \"Phrase B\", \"Similarity\"])"
      ],
      "execution_count": 21,
      "outputs": []
    },
    {
      "cell_type": "code",
      "metadata": {
        "id": "VmGZL9h8kShk",
        "colab_type": "code",
        "colab": {
          "base_uri": "https://localhost:8080/",
          "height": 204
        },
        "outputId": "9756debe-d642-462c-db2b-dcc2eb49c8c7"
      },
      "source": [
        "different_intent = similarity_df['Intent A'] != similarity_df['Intent B']\n",
        "display(similarity_df[different_intent].sort_values('Similarity', ascending=False).head(5))"
      ],
      "execution_count": 22,
      "outputs": [
        {
          "output_type": "display_data",
          "data": {
            "text/html": [
              "<div>\n",
              "<style scoped>\n",
              "    .dataframe tbody tr th:only-of-type {\n",
              "        vertical-align: middle;\n",
              "    }\n",
              "\n",
              "    .dataframe tbody tr th {\n",
              "        vertical-align: top;\n",
              "    }\n",
              "\n",
              "    .dataframe thead th {\n",
              "        text-align: right;\n",
              "    }\n",
              "</style>\n",
              "<table border=\"1\" class=\"dataframe\">\n",
              "  <thead>\n",
              "    <tr style=\"text-align: right;\">\n",
              "      <th></th>\n",
              "      <th>Intent A</th>\n",
              "      <th>Phrase A</th>\n",
              "      <th>Intent B</th>\n",
              "      <th>Phrase B</th>\n",
              "      <th>Similarity</th>\n",
              "    </tr>\n",
              "  </thead>\n",
              "  <tbody>\n",
              "    <tr>\n",
              "      <th>1457</th>\n",
              "      <td>Documentary</td>\n",
              "      <td>list some documentry movies</td>\n",
              "      <td>Action</td>\n",
              "      <td>list some Action movies</td>\n",
              "      <td>0.904298</td>\n",
              "    </tr>\n",
              "    <tr>\n",
              "      <th>1461</th>\n",
              "      <td>Documentary</td>\n",
              "      <td>list some documentry movies</td>\n",
              "      <td>Old</td>\n",
              "      <td>List all Old movies</td>\n",
              "      <td>0.868929</td>\n",
              "    </tr>\n",
              "    <tr>\n",
              "      <th>451</th>\n",
              "      <td>Comedy</td>\n",
              "      <td>please recommend a Comedy movie</td>\n",
              "      <td>Documentary</td>\n",
              "      <td>any recommendation for a documentry movie?</td>\n",
              "      <td>0.815093</td>\n",
              "    </tr>\n",
              "    <tr>\n",
              "      <th>1553</th>\n",
              "      <td>Documentary</td>\n",
              "      <td>any recommendation for a documentry movie?</td>\n",
              "      <td>Action</td>\n",
              "      <td>is there an Action movie your recommend</td>\n",
              "      <td>0.804996</td>\n",
              "    </tr>\n",
              "    <tr>\n",
              "      <th>479</th>\n",
              "      <td>Comedy</td>\n",
              "      <td>please recommend a Comedy movie</td>\n",
              "      <td>Length</td>\n",
              "      <td>Any good movie that is longer than 2 hours?</td>\n",
              "      <td>0.800272</td>\n",
              "    </tr>\n",
              "  </tbody>\n",
              "</table>\n",
              "</div>"
            ],
            "text/plain": [
              "         Intent A  ... Similarity\n",
              "1457  Documentary  ...   0.904298\n",
              "1461  Documentary  ...   0.868929\n",
              "451        Comedy  ...   0.815093\n",
              "1553  Documentary  ...   0.804996\n",
              "479        Comedy  ...   0.800272\n",
              "\n",
              "[5 rows x 5 columns]"
            ]
          },
          "metadata": {
            "tags": []
          }
        }
      ]
    },
    {
      "cell_type": "markdown",
      "metadata": {
        "id": "r9IrieApn21z",
        "colab_type": "text"
      },
      "source": [
        "### Compute Intents Cohesion"
      ]
    },
    {
      "cell_type": "code",
      "metadata": {
        "id": "-2mjItlWLVP3",
        "colab_type": "code",
        "colab": {
          "base_uri": "https://localhost:8080/",
          "height": 297
        },
        "outputId": "6f41d78a-9b48-4d16-f2a5-a9fac6d9903b"
      },
      "source": [
        "same_intent = similarity_df['Intent A'] == similarity_df['Intent B']\n",
        "cohesion_df = pd.DataFrame(similarity_df[different_intent].groupby('Intent A', as_index=False)['Similarity'].mean())\n",
        "cohesion_df.columns = ['Intent', 'Cohesion']\n",
        "display(cohesion_df)"
      ],
      "execution_count": 23,
      "outputs": [
        {
          "output_type": "display_data",
          "data": {
            "text/html": [
              "<div>\n",
              "<style scoped>\n",
              "    .dataframe tbody tr th:only-of-type {\n",
              "        vertical-align: middle;\n",
              "    }\n",
              "\n",
              "    .dataframe tbody tr th {\n",
              "        vertical-align: top;\n",
              "    }\n",
              "\n",
              "    .dataframe thead th {\n",
              "        text-align: right;\n",
              "    }\n",
              "</style>\n",
              "<table border=\"1\" class=\"dataframe\">\n",
              "  <thead>\n",
              "    <tr style=\"text-align: right;\">\n",
              "      <th></th>\n",
              "      <th>Intent</th>\n",
              "      <th>Cohesion</th>\n",
              "    </tr>\n",
              "  </thead>\n",
              "  <tbody>\n",
              "    <tr>\n",
              "      <th>0</th>\n",
              "      <td>Action</td>\n",
              "      <td>0.526238</td>\n",
              "    </tr>\n",
              "    <tr>\n",
              "      <th>1</th>\n",
              "      <td>Asian</td>\n",
              "      <td>0.412953</td>\n",
              "    </tr>\n",
              "    <tr>\n",
              "      <th>2</th>\n",
              "      <td>Comedy</td>\n",
              "      <td>0.445761</td>\n",
              "    </tr>\n",
              "    <tr>\n",
              "      <th>3</th>\n",
              "      <td>Default Welcome Intent</td>\n",
              "      <td>0.150618</td>\n",
              "    </tr>\n",
              "    <tr>\n",
              "      <th>4</th>\n",
              "      <td>Disney</td>\n",
              "      <td>0.493124</td>\n",
              "    </tr>\n",
              "    <tr>\n",
              "      <th>5</th>\n",
              "      <td>Documentary</td>\n",
              "      <td>0.422270</td>\n",
              "    </tr>\n",
              "    <tr>\n",
              "      <th>6</th>\n",
              "      <td>Old</td>\n",
              "      <td>0.600369</td>\n",
              "    </tr>\n",
              "    <tr>\n",
              "      <th>7</th>\n",
              "      <td>Oscar</td>\n",
              "      <td>0.574076</td>\n",
              "    </tr>\n",
              "  </tbody>\n",
              "</table>\n",
              "</div>"
            ],
            "text/plain": [
              "                   Intent  Cohesion\n",
              "0                  Action  0.526238\n",
              "1                   Asian  0.412953\n",
              "2                  Comedy  0.445761\n",
              "3  Default Welcome Intent  0.150618\n",
              "4                  Disney  0.493124\n",
              "5             Documentary  0.422270\n",
              "6                     Old  0.600369\n",
              "7                   Oscar  0.574076"
            ]
          },
          "metadata": {
            "tags": []
          }
        }
      ]
    },
    {
      "cell_type": "code",
      "metadata": {
        "id": "uLpG39zXonvy",
        "colab_type": "code",
        "colab": {
          "base_uri": "https://localhost:8080/",
          "height": 1000
        },
        "outputId": "8732bb9a-0c87-43b8-8f87-4281378c00a2"
      },
      "source": [
        "different_intent = similarity_df['Intent A'] != similarity_df['Intent B']\n",
        "separation_df = pd.DataFrame(similarity_df[different_intent].groupby(['Intent A', 'Intent B'], as_index=False)['Similarity'].mean())\n",
        "separation_df['Separation'] = 1 - separation_df['Similarity']\n",
        "del separation_df['Similarity']\n",
        "display(separation_df.sort_values('Separation'))"
      ],
      "execution_count": 24,
      "outputs": [
        {
          "output_type": "display_data",
          "data": {
            "text/html": [
              "<div>\n",
              "<style scoped>\n",
              "    .dataframe tbody tr th:only-of-type {\n",
              "        vertical-align: middle;\n",
              "    }\n",
              "\n",
              "    .dataframe tbody tr th {\n",
              "        vertical-align: top;\n",
              "    }\n",
              "\n",
              "    .dataframe thead th {\n",
              "        text-align: right;\n",
              "    }\n",
              "</style>\n",
              "<table border=\"1\" class=\"dataframe\">\n",
              "  <thead>\n",
              "    <tr style=\"text-align: right;\">\n",
              "      <th></th>\n",
              "      <th>Intent A</th>\n",
              "      <th>Intent B</th>\n",
              "      <th>Separation</th>\n",
              "    </tr>\n",
              "  </thead>\n",
              "  <tbody>\n",
              "    <tr>\n",
              "      <th>33</th>\n",
              "      <td>Old</td>\n",
              "      <td>Length</td>\n",
              "      <td>0.370870</td>\n",
              "    </tr>\n",
              "    <tr>\n",
              "      <th>17</th>\n",
              "      <td>Comedy</td>\n",
              "      <td>Old</td>\n",
              "      <td>0.376818</td>\n",
              "    </tr>\n",
              "    <tr>\n",
              "      <th>18</th>\n",
              "      <td>Comedy</td>\n",
              "      <td>Oscar</td>\n",
              "      <td>0.382697</td>\n",
              "    </tr>\n",
              "    <tr>\n",
              "      <th>16</th>\n",
              "      <td>Comedy</td>\n",
              "      <td>Length</td>\n",
              "      <td>0.392244</td>\n",
              "    </tr>\n",
              "    <tr>\n",
              "      <th>3</th>\n",
              "      <td>Action</td>\n",
              "      <td>Oscar</td>\n",
              "      <td>0.392296</td>\n",
              "    </tr>\n",
              "    <tr>\n",
              "      <th>34</th>\n",
              "      <td>Old</td>\n",
              "      <td>Oscar</td>\n",
              "      <td>0.409663</td>\n",
              "    </tr>\n",
              "    <tr>\n",
              "      <th>12</th>\n",
              "      <td>Comedy</td>\n",
              "      <td>Action</td>\n",
              "      <td>0.410891</td>\n",
              "    </tr>\n",
              "    <tr>\n",
              "      <th>32</th>\n",
              "      <td>Old</td>\n",
              "      <td>Disney</td>\n",
              "      <td>0.421227</td>\n",
              "    </tr>\n",
              "    <tr>\n",
              "      <th>35</th>\n",
              "      <td>Oscar</td>\n",
              "      <td>Length</td>\n",
              "      <td>0.425924</td>\n",
              "    </tr>\n",
              "    <tr>\n",
              "      <th>1</th>\n",
              "      <td>Action</td>\n",
              "      <td>Length</td>\n",
              "      <td>0.440929</td>\n",
              "    </tr>\n",
              "    <tr>\n",
              "      <th>11</th>\n",
              "      <td>Asian</td>\n",
              "      <td>Oscar</td>\n",
              "      <td>0.448896</td>\n",
              "    </tr>\n",
              "    <tr>\n",
              "      <th>5</th>\n",
              "      <td>Asian</td>\n",
              "      <td>Comedy</td>\n",
              "      <td>0.449668</td>\n",
              "    </tr>\n",
              "    <tr>\n",
              "      <th>2</th>\n",
              "      <td>Action</td>\n",
              "      <td>Old</td>\n",
              "      <td>0.449675</td>\n",
              "    </tr>\n",
              "    <tr>\n",
              "      <th>26</th>\n",
              "      <td>Disney</td>\n",
              "      <td>Oscar</td>\n",
              "      <td>0.472974</td>\n",
              "    </tr>\n",
              "    <tr>\n",
              "      <th>10</th>\n",
              "      <td>Asian</td>\n",
              "      <td>Old</td>\n",
              "      <td>0.483728</td>\n",
              "    </tr>\n",
              "    <tr>\n",
              "      <th>4</th>\n",
              "      <td>Asian</td>\n",
              "      <td>Action</td>\n",
              "      <td>0.492931</td>\n",
              "    </tr>\n",
              "    <tr>\n",
              "      <th>9</th>\n",
              "      <td>Asian</td>\n",
              "      <td>Length</td>\n",
              "      <td>0.494529</td>\n",
              "    </tr>\n",
              "    <tr>\n",
              "      <th>15</th>\n",
              "      <td>Comedy</td>\n",
              "      <td>Documentary</td>\n",
              "      <td>0.495874</td>\n",
              "    </tr>\n",
              "    <tr>\n",
              "      <th>7</th>\n",
              "      <td>Asian</td>\n",
              "      <td>Disney</td>\n",
              "      <td>0.498899</td>\n",
              "    </tr>\n",
              "    <tr>\n",
              "      <th>25</th>\n",
              "      <td>Disney</td>\n",
              "      <td>Length</td>\n",
              "      <td>0.531093</td>\n",
              "    </tr>\n",
              "    <tr>\n",
              "      <th>14</th>\n",
              "      <td>Comedy</td>\n",
              "      <td>Disney</td>\n",
              "      <td>0.531746</td>\n",
              "    </tr>\n",
              "    <tr>\n",
              "      <th>30</th>\n",
              "      <td>Documentary</td>\n",
              "      <td>Old</td>\n",
              "      <td>0.543906</td>\n",
              "    </tr>\n",
              "    <tr>\n",
              "      <th>27</th>\n",
              "      <td>Documentary</td>\n",
              "      <td>Action</td>\n",
              "      <td>0.552769</td>\n",
              "    </tr>\n",
              "    <tr>\n",
              "      <th>31</th>\n",
              "      <td>Documentary</td>\n",
              "      <td>Oscar</td>\n",
              "      <td>0.564658</td>\n",
              "    </tr>\n",
              "    <tr>\n",
              "      <th>0</th>\n",
              "      <td>Action</td>\n",
              "      <td>Disney</td>\n",
              "      <td>0.585432</td>\n",
              "    </tr>\n",
              "    <tr>\n",
              "      <th>29</th>\n",
              "      <td>Documentary</td>\n",
              "      <td>Length</td>\n",
              "      <td>0.604466</td>\n",
              "    </tr>\n",
              "    <tr>\n",
              "      <th>28</th>\n",
              "      <td>Documentary</td>\n",
              "      <td>Disney</td>\n",
              "      <td>0.610717</td>\n",
              "    </tr>\n",
              "    <tr>\n",
              "      <th>8</th>\n",
              "      <td>Asian</td>\n",
              "      <td>Documentary</td>\n",
              "      <td>0.619062</td>\n",
              "    </tr>\n",
              "    <tr>\n",
              "      <th>23</th>\n",
              "      <td>Default Welcome Intent</td>\n",
              "      <td>Old</td>\n",
              "      <td>0.821816</td>\n",
              "    </tr>\n",
              "    <tr>\n",
              "      <th>20</th>\n",
              "      <td>Default Welcome Intent</td>\n",
              "      <td>Disney</td>\n",
              "      <td>0.827664</td>\n",
              "    </tr>\n",
              "    <tr>\n",
              "      <th>13</th>\n",
              "      <td>Comedy</td>\n",
              "      <td>Default Welcome Intent</td>\n",
              "      <td>0.830733</td>\n",
              "    </tr>\n",
              "    <tr>\n",
              "      <th>6</th>\n",
              "      <td>Asian</td>\n",
              "      <td>Default Welcome Intent</td>\n",
              "      <td>0.831398</td>\n",
              "    </tr>\n",
              "    <tr>\n",
              "      <th>21</th>\n",
              "      <td>Default Welcome Intent</td>\n",
              "      <td>Documentary</td>\n",
              "      <td>0.842126</td>\n",
              "    </tr>\n",
              "    <tr>\n",
              "      <th>19</th>\n",
              "      <td>Default Welcome Intent</td>\n",
              "      <td>Action</td>\n",
              "      <td>0.842128</td>\n",
              "    </tr>\n",
              "    <tr>\n",
              "      <th>24</th>\n",
              "      <td>Default Welcome Intent</td>\n",
              "      <td>Oscar</td>\n",
              "      <td>0.856819</td>\n",
              "    </tr>\n",
              "    <tr>\n",
              "      <th>22</th>\n",
              "      <td>Default Welcome Intent</td>\n",
              "      <td>Length</td>\n",
              "      <td>0.901855</td>\n",
              "    </tr>\n",
              "  </tbody>\n",
              "</table>\n",
              "</div>"
            ],
            "text/plain": [
              "                  Intent A                Intent B  Separation\n",
              "33                     Old                  Length    0.370870\n",
              "17                  Comedy                     Old    0.376818\n",
              "18                  Comedy                   Oscar    0.382697\n",
              "16                  Comedy                  Length    0.392244\n",
              "3                   Action                   Oscar    0.392296\n",
              "34                     Old                   Oscar    0.409663\n",
              "12                  Comedy                  Action    0.410891\n",
              "32                     Old                  Disney    0.421227\n",
              "35                   Oscar                  Length    0.425924\n",
              "1                   Action                  Length    0.440929\n",
              "11                   Asian                   Oscar    0.448896\n",
              "5                    Asian                  Comedy    0.449668\n",
              "2                   Action                     Old    0.449675\n",
              "26                  Disney                   Oscar    0.472974\n",
              "10                   Asian                     Old    0.483728\n",
              "4                    Asian                  Action    0.492931\n",
              "9                    Asian                  Length    0.494529\n",
              "15                  Comedy             Documentary    0.495874\n",
              "7                    Asian                  Disney    0.498899\n",
              "25                  Disney                  Length    0.531093\n",
              "14                  Comedy                  Disney    0.531746\n",
              "30             Documentary                     Old    0.543906\n",
              "27             Documentary                  Action    0.552769\n",
              "31             Documentary                   Oscar    0.564658\n",
              "0                   Action                  Disney    0.585432\n",
              "29             Documentary                  Length    0.604466\n",
              "28             Documentary                  Disney    0.610717\n",
              "8                    Asian             Documentary    0.619062\n",
              "23  Default Welcome Intent                     Old    0.821816\n",
              "20  Default Welcome Intent                  Disney    0.827664\n",
              "13                  Comedy  Default Welcome Intent    0.830733\n",
              "6                    Asian  Default Welcome Intent    0.831398\n",
              "21  Default Welcome Intent             Documentary    0.842126\n",
              "19  Default Welcome Intent                  Action    0.842128\n",
              "24  Default Welcome Intent                   Oscar    0.856819\n",
              "22  Default Welcome Intent                  Length    0.901855"
            ]
          },
          "metadata": {
            "tags": []
          }
        }
      ]
    },
    {
      "cell_type": "markdown",
      "metadata": {
        "id": "TS1krQTCzMww",
        "colab_type": "text"
      },
      "source": [
        "## License"
      ]
    },
    {
      "cell_type": "markdown",
      "metadata": {
        "id": "XQ01q3_azM6O",
        "colab_type": "text"
      },
      "source": [
        "Authors:  Marcello Stiner & Khalid Salama\n",
        "\n",
        "---\n",
        "**Disclaimer**: This is not an official Google product. The sample code provided for an educational purpose.\n",
        "\n",
        "---\n",
        "\n",
        "Copyright 2019 Google LLC\n",
        "\n",
        "Licensed under the Apache License, Version 2.0 (the \"License\");\n",
        "you may not use this file except in compliance with the License.\n",
        "You may obtain a copy of the License at http://www.apache.org/licenses/LICENSE-2.0.\n",
        "\n",
        "Unless required by applicable law or agreed to in writing, software\n",
        "distributed under the License is distributed on an \"AS IS\" BASIS,\n",
        "WITHOUT WARRANTIES OR CONDITIONS OF ANY KIND, either express or implied.\n",
        "See the License for the specific language governing permissions and\n",
        "limitations under the License.\n",
        "\n",
        "\n",
        "---\n"
      ]
    }
  ]
}